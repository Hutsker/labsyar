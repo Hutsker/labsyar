{
 "cells": [
  {
   "cell_type": "code",
   "execution_count": 1,
   "metadata": {},
   "outputs": [
    {
     "name": "stdout",
     "output_type": "stream",
     "text": [
      "Подъезд\n",
      "['Дом', 'Подъезд', 'Кампус']\n",
      "['Дом', 'Подъезд', 'Кампус', 'Облако', 'Сетевой объект']\n",
      "['Представление', 'Облако', 'Сетевой объект']\n"
     ]
    }
   ],
   "source": [
    "# Списки\n",
    "list1 = ['Дом', 'Подъезд']\n",
    "print(list1[1])\n",
    "\n",
    "list1.append('Кампус')\n",
    "print(list1)\n",
    "\n",
    "list2 = ['Облако', 'Сетевой объект']\n",
    "print(list1 + list2)\n",
    "\n",
    "list2.insert(0, 'Представление')\n",
    "print(list2)"
   ]
  },
  {
   "cell_type": "code",
   "execution_count": 1,
   "metadata": {},
   "outputs": [
    {
     "name": "stdout",
     "output_type": "stream",
     "text": [
      "('Акадо', 'Энфорта', 'Инфосети')\n",
      "['Акадо', 'Инфосети']\n",
      "['Акадо', 'Инфосети', 'Авантел']\n"
     ]
    }
   ],
   "source": [
    "# Кортеж\n",
    "company = 'Акадо', 'Энфорта', 'Инфосети'\n",
    "print(company)\n",
    "\n",
    "companys = (['ГУТС', 'Энфорта'], ['Акадо', 'Инфосети'])\n",
    "print(companys[1])\n",
    "\n",
    "companys[1].append('Авантел')\n",
    "print(companys[1])"
   ]
  }
 ],
 "metadata": {
  "kernelspec": {
   "display_name": "Python 3.9.13 64-bit",
   "language": "python",
   "name": "python3"
  },
  "language_info": {
   "codemirror_mode": {
    "name": "ipython",
    "version": 3
   },
   "file_extension": ".py",
   "mimetype": "text/x-python",
   "name": "python",
   "nbconvert_exporter": "python",
   "pygments_lexer": "ipython3",
   "version": "3.9.13"
  },
  "orig_nbformat": 4,
  "vscode": {
   "interpreter": {
    "hash": "ab25554d3578f78c034edd7b856ed4d965c2287f87e9a6c2101a6f0889e4f16f"
   }
  }
 },
 "nbformat": 4,
 "nbformat_minor": 2
}
